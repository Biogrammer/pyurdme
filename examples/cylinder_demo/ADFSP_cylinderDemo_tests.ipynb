{
 "metadata": {
  "kernelspec": {
   "codemirror_mode": {
    "name": "python",
    "version": 2
   },
   "display_name": "Python 2",
   "language": "python",
   "name": "python2"
  },
  "name": "",
  "signature": "sha256:aeb05135da0d980bc10f4cf58c14d54b182b4dfe706e671c003153746be5b60b"
 },
 "nbformat": 3,
 "nbformat_minor": 0,
 "worksheets": [
  {
   "cells": [
    {
     "cell_type": "heading",
     "level": 1,
     "metadata": {},
     "source": [
      "Test usage of the experimental ADFSP solver"
     ]
    },
    {
     "cell_type": "markdown",
     "metadata": {},
     "source": [
      "PyURDME includes the ADFSP (Adaptive Diffusive Finite State Projection) solver.  This solver integrates the Reaction-Diffusion Master Equations using the DFSP algorithm found in [Drawert et al., J.Chem.Phys, 2010] using an adaptive timesteping schemed based on the estimating the operator splitting error using the method from [Hellander et al., J.Comp.Phys, 2013]."
     ]
    },
    {
     "cell_type": "code",
     "collapsed": false,
     "input": [
      "%pylab inline\n",
      "from pyurdme.adfsp_solver import ADFSPSolver\n",
      "from examples.cylinder_demo.cylinder_demo3D import cylinderDemo3D\n",
      "import pyurdme\n",
      "import time\n",
      "import scipy.fftpack\n",
      "import numpy"
     ],
     "language": "python",
     "metadata": {},
     "outputs": [
      {
       "output_type": "stream",
       "stream": "stdout",
       "text": [
        "Populating the interactive namespace from numpy and matplotlib\n"
       ]
      }
     ],
     "prompt_number": 1
    },
    {
     "cell_type": "code",
     "collapsed": false,
     "input": [
      "model = cylinderDemo3D()\n",
      "sol = ADFSPSolver(model)\n",
      "print \"Attempting to compile\"\n",
      "sol.compile()\n",
      "print \"Beginning simulation\"\n",
      "t1 = time.time()\n",
      "result = sol.run()\n",
      "print \"Simulation complete in {0}s\".format(time.time()-t1)\n"
     ],
     "language": "python",
     "metadata": {},
     "outputs": [
      {
       "output_type": "stream",
       "stream": "stdout",
       "text": [
        "Attempting to compile\n",
        "Beginning simulation"
       ]
      },
      {
       "output_type": "stream",
       "stream": "stdout",
       "text": [
        "\n",
        "Simulation complete in 4.20588898659s"
       ]
      },
      {
       "output_type": "stream",
       "stream": "stdout",
       "text": [
        "\n"
       ]
      }
     ],
     "prompt_number": 3
    },
    {
     "cell_type": "code",
     "collapsed": false,
     "input": [
      "print \"Plotting solution\"\n",
      "# Plot of the time-average spatial concentration.\n",
      "x_vals = model.mesh.coordinates()[:, 0]\n",
      "A_vals = numpy.mean(result.get_species(\"A\", concentration=True), axis=0)\n",
      "B_vals = numpy.mean(result.get_species(\"B\", concentration=True), axis=0)\n",
      "plt.plot(x_vals,A_vals,'.r',x_vals,B_vals,'.b')\n",
      "plt.legend(['A', 'B'])"
     ],
     "language": "python",
     "metadata": {},
     "outputs": [
      {
       "output_type": "stream",
       "stream": "stdout",
       "text": [
        "Plotting solution\n"
       ]
      },
      {
       "metadata": {},
       "output_type": "pyout",
       "prompt_number": 4,
       "text": [
        "<matplotlib.legend.Legend at 0x110936650>"
       ]
      },
      {
       "metadata": {},
       "output_type": "display_data",
       "png": "[encoded data removed]",
       "text": [
        "<matplotlib.figure.Figure at 0x1101616d0>"
       ]
      }
     ],
     "prompt_number": 4
    },
    {
     "cell_type": "code",
     "collapsed": false,
     "input": [
      "sol = ADFSPSolver(model, report_level=0)\n",
      "print \"Attempting to compile\"\n",
      "sol.compile()\n",
      "N = 10\n",
      "run_times = []\n",
      "print \"Beginning simulation:\"\n",
      "for n in range(N):\n",
      "    sys.stdout.write(str(n))\n",
      "    sys.stdout.flush()\n",
      "    t1 = time.time()\n",
      "    result = sol.run()\n",
      "    elapsed_time = time.time()-t1\n",
      "    run_times.append(elapsed_time)\n",
      "print \"Simulation of {0} trajectories: avg={1} std={2}\".format(N, numpy.mean(run_times), numpy.std(run_times))"
     ],
     "language": "python",
     "metadata": {},
     "outputs": [
      {
       "output_type": "stream",
       "stream": "stdout",
       "text": [
        "Attempting to compile\n",
        "Beginning simulation:"
       ]
      },
      {
       "output_type": "stream",
       "stream": "stdout",
       "text": [
        "\n",
        "0"
       ]
      },
      {
       "output_type": "stream",
       "stream": "stdout",
       "text": [
        "1"
       ]
      },
      {
       "output_type": "stream",
       "stream": "stdout",
       "text": [
        "2"
       ]
      },
      {
       "output_type": "stream",
       "stream": "stdout",
       "text": [
        "3"
       ]
      },
      {
       "output_type": "stream",
       "stream": "stdout",
       "text": [
        "4"
       ]
      },
      {
       "output_type": "stream",
       "stream": "stdout",
       "text": [
        "5"
       ]
      },
      {
       "output_type": "stream",
       "stream": "stdout",
       "text": [
        "6"
       ]
      },
      {
       "output_type": "stream",
       "stream": "stdout",
       "text": [
        "7"
       ]
      },
      {
       "output_type": "stream",
       "stream": "stdout",
       "text": [
        "8"
       ]
      },
      {
       "output_type": "stream",
       "stream": "stdout",
       "text": [
        "9"
       ]
      },
      {
       "output_type": "stream",
       "stream": "stdout",
       "text": [
        "Simulation of 10 trajectories: avg=3.17652721405 std=0.457474561977\n"
       ]
      }
     ],
     "prompt_number": 5
    },
    {
     "cell_type": "code",
     "collapsed": false,
     "input": [
      "from pyurdme.nsmsolver import NSMSolver\n",
      "nsm = NSMSolver(model, report_level=0)\n",
      "print \"NSM: Attempting to compile\"\n",
      "nsm.compile()\n",
      "N = 10\n",
      "nsm_times = []\n",
      "print \"NSM: Beginning simulation:\",\n",
      "for n in range(N):\n",
      "    sys.stdout.write(str(n))\n",
      "    sys.stdout.flush()\n",
      "    t1 = time.time()\n",
      "    result = nsm.run()\n",
      "    elapsed_time = time.time()-t1\n",
      "    nsm_times.append(elapsed_time)\n",
      "print \"\"\n",
      "print \"NSM: Simulation of {0} trajectories: avg={1} std={2}\".format(N, numpy.mean(nsm_times), numpy.std(nsm_times))"
     ],
     "language": "python",
     "metadata": {},
     "outputs": [
      {
       "output_type": "stream",
       "stream": "stdout",
       "text": [
        "NSM: Attempting to compile\n",
        "NSM: Beginning simulation:"
       ]
      },
      {
       "output_type": "stream",
       "stream": "stdout",
       "text": [
        "0"
       ]
      },
      {
       "output_type": "stream",
       "stream": "stdout",
       "text": [
        "1"
       ]
      },
      {
       "output_type": "stream",
       "stream": "stdout",
       "text": [
        "2"
       ]
      },
      {
       "output_type": "stream",
       "stream": "stdout",
       "text": [
        "3"
       ]
      },
      {
       "output_type": "stream",
       "stream": "stdout",
       "text": [
        "4"
       ]
      },
      {
       "output_type": "stream",
       "stream": "stdout",
       "text": [
        "5"
       ]
      },
      {
       "output_type": "stream",
       "stream": "stdout",
       "text": [
        "6"
       ]
      },
      {
       "output_type": "stream",
       "stream": "stdout",
       "text": [
        "7"
       ]
      },
      {
       "output_type": "stream",
       "stream": "stdout",
       "text": [
        "8"
       ]
      },
      {
       "output_type": "stream",
       "stream": "stdout",
       "text": [
        "9"
       ]
      },
      {
       "output_type": "stream",
       "stream": "stdout",
       "text": [
        " \n",
        "NSM: Simulation of 10 trajectories: avg=3.61504948139 std=0.214400820178\n"
       ]
      }
     ],
     "prompt_number": 6
    },
    {
     "cell_type": "code",
     "collapsed": false,
     "input": [],
     "language": "python",
     "metadata": {},
     "outputs": []
    },
    {
     "cell_type": "code",
     "collapsed": false,
     "input": [],
     "language": "python",
     "metadata": {},
     "outputs": []
    }
   ],
   "metadata": {}
  }
 ]
}