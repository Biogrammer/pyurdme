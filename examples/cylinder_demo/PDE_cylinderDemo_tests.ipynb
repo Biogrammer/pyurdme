{
 "metadata": {
  "kernelspec": {
   "codemirror_mode": {
    "name": "python",
    "version": 2
   },
   "display_name": "Python 2",
   "language": "python",
   "name": "python2"
  },
  "name": "",
  "signature": "sha256:6576dc009ce8d7515d75a709eaf59674b861dee4f410ce85e7968f0bef40ef15"
 },
 "nbformat": 3,
 "nbformat_minor": 0,
 "worksheets": [
  {
   "cells": [
    {
     "cell_type": "heading",
     "level": 1,
     "metadata": {},
     "source": [
      "Test usage of the experimental PDE solver"
     ]
    },
    {
     "cell_type": "markdown",
     "metadata": {},
     "source": [
      "PyURDME includes a deterministic solver (PDE)."
     ]
    },
    {
     "cell_type": "code",
     "collapsed": false,
     "input": [
      "%matplotlib inline\n",
      "from pyurdme.pde_solver import PDESolver\n",
      "import pyurdme\n",
      "import time\n",
      "import scipy.fftpack\n",
      "import numpy\n",
      "import dolfin\n",
      "import mshr"
     ],
     "language": "python",
     "metadata": {},
     "outputs": [],
     "prompt_number": 1
    },
    {
     "cell_type": "code",
     "collapsed": false,
     "input": [
      "class RightEdge(dolfin.SubDomain): # Define the right subdomain\n",
      "    def inside(self, x, on_boundary):\n",
      "        return on_boundary and x[0] > 4.9\n",
      "class LeftEdge(dolfin.SubDomain): # Define the left subdomain\n",
      "    def inside(self, x, on_boundary):\n",
      "        return on_boundary and x[0] < -4.9"
     ],
     "language": "python",
     "metadata": {},
     "outputs": [],
     "prompt_number": 2
    },
    {
     "cell_type": "code",
     "collapsed": false,
     "input": [
      "class CylinderDemo(pyurdme.URDMEModel):\n",
      "    def __init__(self, model_name=\"CylinderDemo\"):\n",
      "        pyurdme.URDMEModel.__init__(self, model_name)\n",
      "        # Define Species\n",
      "        A = pyurdme.Species(name=\"A\", diffusion_constant=1.0)\n",
      "        B = pyurdme.Species(name=\"B\", diffusion_constant=1.0)\n",
      "        self.add_species([A, B])\n",
      "        # Define Geometry\n",
      "        cylinder = mshr.Cylinder(dolfin.Point(5, 0, 0), dolfin.Point(-5, 0, 0), 1.0, 1.0)\n",
      "        self.mesh = pyurdme.URDMEMesh(mesh=mshr.generate_mesh(cylinder, 32))\n",
      "        # Define Subdomains\n",
      "        self.add_subdomain(RightEdge(), 2)\n",
      "        self.add_subdomain(LeftEdge(), 3)\n",
      "        # This section is a fix to ensure the creation rates are equal.  Since\n",
      "        # The creation reactions are zero-th order, They are proportional to volume.\n",
      "        # Due to the discritization the sum volume of the voxels in subdomain 1 may\n",
      "        # not be the same as the sum volume of the voxels in subdomain 2.  We adjust \n",
      "        # the parameters so that the net creation rate the same for both. \n",
      "        data = self.get_solver_datastructure()\n",
      "        vol = data['vol']\n",
      "        sd = data['sd']\n",
      "        right = numpy.sum(vol[sd == 2])\n",
      "        left = numpy.sum(vol[sd == 3])\n",
      "        print \"Total Subdomain Volume: Right(A)={0} Left(B)={1}\".format(left, right)\n",
      "        k_creat = 100\n",
      "        k_creatA_val = k_creat*left/right\n",
      "        k_creatB_val = k_creat\n",
      "        print \"Create params: A={0} B={1}\".format(k_creatA_val, k_creatB_val)\n",
      "        print \"Net create rate: A={0} B={1}\".format(k_creatA_val*left, k_creatB_val*right)\n",
      "        # Define Parameters\n",
      "        k_react = pyurdme.Parameter(name=\"k_react\", expression=1.0)\n",
      "        k_create1 = pyurdme.Parameter(name=\"k_create1\", expression=k_creatA_val)\n",
      "        k_create2 = pyurdme.Parameter(name=\"k_create2\", expression=k_creatB_val)\n",
      "        self.add_parameter([k_react, k_create1, k_create2])\n",
      "        # Define Reactions\n",
      "        R1 = pyurdme.Reaction(name=\"R1\",reactants=None, products={A:1}, rate=k_create1, restrict_to=2)\n",
      "        R2 = pyurdme.Reaction(name=\"R2\",reactants=None, products={B:1}, rate=k_create2, restrict_to=3)\n",
      "        R3 = pyurdme.Reaction(name=\"R3\",reactants={A:1, B:1}, products=None, rate=k_react)\n",
      "        self.add_reaction([R1, R2, R3])\n",
      "        # Define simulation timespan\n",
      "        self.timespan(range(200))"
     ],
     "language": "python",
     "metadata": {},
     "outputs": [],
     "prompt_number": 3
    },
    {
     "cell_type": "code",
     "collapsed": false,
     "input": [
      "model = CylinderDemo()\n",
      "sol = PDESolver(model)\n",
      "print \"Attempting to compile\"\n",
      "t1 = time.time()\n",
      "sol.compile()\n",
      "print \"Compilation complete in {0}s\".format(time.time()-t1)\n",
      "print \"Beginning simulation\"\n",
      "t1 = time.time()\n",
      "result = sol.run()\n",
      "print \"Simulation complete in {0}s\".format(time.time()-t1)\n"
     ],
     "language": "python",
     "metadata": {},
     "outputs": [
      {
       "output_type": "stream",
       "stream": "stdout",
       "text": [
        "Total Subdomain Volume: Right(A)=0.338902497332 Left(B)=0.243929901352\n",
        "Create params: A=138.934380514 B=100\n",
        "Net create rate: A=47.0852085215 B=24.3929901352\n",
        "Attempting to compile\n",
        "Compilation complete in 259.804553986s"
       ]
      },
      {
       "output_type": "stream",
       "stream": "stdout",
       "text": [
        "\n",
        "Beginning simulation\n",
        "Simulation complete in 270.856409073s"
       ]
      },
      {
       "output_type": "stream",
       "stream": "stdout",
       "text": [
        "\n"
       ]
      }
     ],
     "prompt_number": 4
    },
    {
     "cell_type": "code",
     "collapsed": false,
     "input": [
      "print \"Plotting solution\"\n",
      "# Plot of the time-average spatial concentration.\n",
      "x_vals = model.mesh.coordinates()[:, 0]\n",
      "A_vals = result.get_species(\"A\",-1, concentration=True)\n",
      "B_vals = result.get_species(\"B\",-1, concentration=True)\n",
      "plt.plot(x_vals,A_vals,'.r',x_vals,B_vals,'.b')\n",
      "plt.legend(['A', 'B'])"
     ],
     "language": "python",
     "metadata": {},
     "outputs": [
      {
       "output_type": "stream",
       "stream": "stdout",
       "text": [
        "Plotting solution\n"
       ]
      },
      {
       "metadata": {},
       "output_type": "pyout",
       "prompt_number": 7,
       "text": [
        "<matplotlib.legend.Legend at 0x1134626d0>"
       ]
      },
      {
       "metadata": {},
       "output_type": "display_data",
       "png": "[encoded data removed]",
       "text": [
        "<matplotlib.figure.Figure at 0x113462590>"
       ]
      }
     ],
     "prompt_number": 7
    },
    {
     "cell_type": "code",
     "collapsed": false,
     "input": [
      "x_vals = model.mesh.coordinates()[:, 0]\n",
      "#A_vals = numpy.sum(result.get_species(\"A\", concentration=True), axis=0)\n",
      "#B_vals = numpy.sum(result.get_species(\"B\", concentration=True), axis=0)\n",
      "A_vals = result.get_species(\"A\",-1, concentration=True)\n",
      "B_vals = result.get_species(\"B\",-1, concentration=True)\n",
      "plt.figure(figsize=(12,6), dpi=100)\n",
      "num_bins = 25\n",
      "plt.hist(x_vals, bins=num_bins, weights=B_vals, facecolor='red', alpha=0.5)\n",
      "plt.hist(x_vals, bins=num_bins, weights=A_vals, facecolor='blue', alpha=0.5)\n",
      "plt.legend(['B','A'])\n",
      "plt.xlabel('x-coordinate')\n",
      "plt.ylabel('concentration')\n",
      "plt.title('Concentration binned by x-coordinate')"
     ],
     "language": "python",
     "metadata": {},
     "outputs": [
      {
       "metadata": {},
       "output_type": "pyout",
       "prompt_number": 8,
       "text": [
        "<matplotlib.text.Text at 0x1141dfc50>"
       ]
      },
      {
       "metadata": {},
       "output_type": "display_data",
       "png": "[encoded data removed]",
       "text": [
        "<matplotlib.figure.Figure at 0x114282190>"
       ]
      }
     ],
     "prompt_number": 8
    },
    {
     "cell_type": "code",
     "collapsed": false,
     "input": [],
     "language": "python",
     "metadata": {},
     "outputs": []
    },
    {
     "cell_type": "code",
     "collapsed": false,
     "input": [],
     "language": "python",
     "metadata": {},
     "outputs": []
    },
    {
     "cell_type": "code",
     "collapsed": false,
     "input": [
      "sd = model.get_solver_datastructure()\n",
      "print sd.keys()"
     ],
     "language": "python",
     "metadata": {},
     "outputs": [
      {
       "output_type": "stream",
       "stream": "stdout",
       "text": [
        "['D', 'G', 'vol', 'tspan', 'K', 'u0', 'dofvolumes', 'N', 'p', 'report', 'data', 'sd']\n"
       ]
      }
     ],
     "prompt_number": 11
    },
    {
     "cell_type": "code",
     "collapsed": false,
     "input": [
      "sd['data'].shape"
     ],
     "language": "python",
     "metadata": {},
     "outputs": [
      {
       "metadata": {},
       "output_type": "pyout",
       "prompt_number": 13,
       "text": [
        "(1, 1063)"
       ]
      }
     ],
     "prompt_number": 13
    },
    {
     "cell_type": "code",
     "collapsed": false,
     "input": [
      "Data = numpy.zeros((2,1063))"
     ],
     "language": "python",
     "metadata": {},
     "outputs": [],
     "prompt_number": 17
    },
    {
     "cell_type": "code",
     "collapsed": false,
     "input": [
      "Data[:,155]"
     ],
     "language": "python",
     "metadata": {},
     "outputs": [
      {
       "metadata": {},
       "output_type": "pyout",
       "prompt_number": 18,
       "text": [
        "array([ 0.,  0.])"
       ]
      }
     ],
     "prompt_number": 18
    },
    {
     "cell_type": "code",
     "collapsed": false,
     "input": [],
     "language": "python",
     "metadata": {},
     "outputs": []
    },
    {
     "cell_type": "code",
     "collapsed": false,
     "input": [
      "print \"Plotting solution\"\n",
      "# Plot of the time-average spatial concentration.\n",
      "x_vals = model.mesh.coordinates()[:, 0]\n",
      "A_vals = numpy.mean(result.get_species(\"A\", concentration=True), axis=0)\n",
      "B_vals = numpy.mean(result.get_species(\"B\", concentration=True), axis=0)\n",
      "plt.plot(x_vals,A_vals,'.r',x_vals,B_vals,'.b')\n",
      "plt.legend(['A', 'B'])"
     ],
     "language": "python",
     "metadata": {},
     "outputs": [
      {
       "output_type": "stream",
       "stream": "stdout",
       "text": [
        "Plotting solution\n"
       ]
      },
      {
       "metadata": {},
       "output_type": "pyout",
       "prompt_number": 4,
       "text": [
        "<matplotlib.legend.Legend at 0x110936650>"
       ]
      },
      {
       "metadata": {},
       "output_type": "display_data",
       "png": "[encoded data removed]",
       "text": [
        "<matplotlib.figure.Figure at 0x1101616d0>"
       ]
      }
     ],
     "prompt_number": 4
    },
    {
     "cell_type": "code",
     "collapsed": false,
     "input": [
      "sol = PDESolver(model, report_level=0)\n",
      "print \"Attempting to compile\"\n",
      "sol.compile()\n",
      "N = 10\n",
      "run_times = []\n",
      "print \"Beginning simulation:\"\n",
      "for n in range(N):\n",
      "    sys.stdout.write(str(n))\n",
      "    sys.stdout.flush()\n",
      "    t1 = time.time()\n",
      "    result = sol.run()\n",
      "    elapsed_time = time.time()-t1\n",
      "    run_times.append(elapsed_time)\n",
      "print \"Simulation of {0} trajectories: avg={1} std={2}\".format(N, numpy.mean(run_times), numpy.std(run_times))"
     ],
     "language": "python",
     "metadata": {},
     "outputs": [
      {
       "output_type": "stream",
       "stream": "stdout",
       "text": [
        "Attempting to compile\n",
        "Beginning simulation:"
       ]
      },
      {
       "output_type": "stream",
       "stream": "stdout",
       "text": [
        "\n",
        "0"
       ]
      },
      {
       "output_type": "stream",
       "stream": "stdout",
       "text": [
        "1"
       ]
      },
      {
       "output_type": "stream",
       "stream": "stdout",
       "text": [
        "2"
       ]
      },
      {
       "output_type": "stream",
       "stream": "stdout",
       "text": [
        "3"
       ]
      },
      {
       "output_type": "stream",
       "stream": "stdout",
       "text": [
        "4"
       ]
      },
      {
       "output_type": "stream",
       "stream": "stdout",
       "text": [
        "5"
       ]
      },
      {
       "output_type": "stream",
       "stream": "stdout",
       "text": [
        "6"
       ]
      },
      {
       "output_type": "stream",
       "stream": "stdout",
       "text": [
        "7"
       ]
      },
      {
       "output_type": "stream",
       "stream": "stdout",
       "text": [
        "8"
       ]
      },
      {
       "output_type": "stream",
       "stream": "stdout",
       "text": [
        "9"
       ]
      },
      {
       "output_type": "stream",
       "stream": "stdout",
       "text": [
        "Simulation of 10 trajectories: avg=3.17652721405 std=0.457474561977\n"
       ]
      }
     ],
     "prompt_number": 5
    },
    {
     "cell_type": "code",
     "collapsed": false,
     "input": [
      "from pyurdme.nsmsolver import NSMSolver\n",
      "nsm = NSMSolver(model, report_level=0)\n",
      "print \"NSM: Attempting to compile\"\n",
      "nsm.compile()\n",
      "N = 10\n",
      "nsm_times = []\n",
      "print \"NSM: Beginning simulation:\",\n",
      "for n in range(N):\n",
      "    sys.stdout.write(str(n))\n",
      "    sys.stdout.flush()\n",
      "    t1 = time.time()\n",
      "    result = nsm.run()\n",
      "    elapsed_time = time.time()-t1\n",
      "    nsm_times.append(elapsed_time)\n",
      "print \"\"\n",
      "print \"NSM: Simulation of {0} trajectories: avg={1} std={2}\".format(N, numpy.mean(nsm_times), numpy.std(nsm_times))"
     ],
     "language": "python",
     "metadata": {},
     "outputs": [
      {
       "output_type": "stream",
       "stream": "stdout",
       "text": [
        "NSM: Attempting to compile\n",
        "NSM: Beginning simulation:"
       ]
      },
      {
       "output_type": "stream",
       "stream": "stdout",
       "text": [
        "0"
       ]
      },
      {
       "output_type": "stream",
       "stream": "stdout",
       "text": [
        "1"
       ]
      },
      {
       "output_type": "stream",
       "stream": "stdout",
       "text": [
        "2"
       ]
      },
      {
       "output_type": "stream",
       "stream": "stdout",
       "text": [
        "3"
       ]
      },
      {
       "output_type": "stream",
       "stream": "stdout",
       "text": [
        "4"
       ]
      },
      {
       "output_type": "stream",
       "stream": "stdout",
       "text": [
        "5"
       ]
      },
      {
       "output_type": "stream",
       "stream": "stdout",
       "text": [
        "6"
       ]
      },
      {
       "output_type": "stream",
       "stream": "stdout",
       "text": [
        "7"
       ]
      },
      {
       "output_type": "stream",
       "stream": "stdout",
       "text": [
        "8"
       ]
      },
      {
       "output_type": "stream",
       "stream": "stdout",
       "text": [
        "9"
       ]
      },
      {
       "output_type": "stream",
       "stream": "stdout",
       "text": [
        " \n",
        "NSM: Simulation of 10 trajectories: avg=3.61504948139 std=0.214400820178\n"
       ]
      }
     ],
     "prompt_number": 6
    },
    {
     "cell_type": "code",
     "collapsed": false,
     "input": [],
     "language": "python",
     "metadata": {},
     "outputs": []
    },
    {
     "cell_type": "code",
     "collapsed": false,
     "input": [],
     "language": "python",
     "metadata": {},
     "outputs": []
    }
   ],
   "metadata": {}
  }
 ]
}